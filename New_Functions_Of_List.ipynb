{
  "nbformat": 4,
  "nbformat_minor": 0,
  "metadata": {
    "colab": {
      "name": "New Functions Of List.ipynb",
      "provenance": []
    },
    "kernelspec": {
      "name": "python3",
      "display_name": "Python 3"
    },
    "language_info": {
      "name": "python"
    }
  },
  "cells": [
    {
      "cell_type": "markdown",
      "source": [
        "Given a list, write a Python program to swap first and last element of the list.\n",
        "Example:\n",
        "Input : [12, 35, 9, 56, 24]\n",
        "Output : [24, 35, 9, 56, 12]\n",
        "\n",
        "Input : [1, 2, 3]\n",
        "Output : [1, 2, 3]"
      ],
      "metadata": {
        "id": "VFa9Ta9WlYMi"
      }
    },
    {
      "cell_type": "code",
      "source": [
        "numbers = [12, 35, 9, 56, 24]\n",
        "numbers[-1] , numbers[0] = numbers[0] , numbers[-1]\n",
        "numbers[:]"
      ],
      "metadata": {
        "colab": {
          "base_uri": "https://localhost:8080/"
        },
        "id": "nfJ4IdzWmzjf",
        "outputId": "dd72abda-1cb8-4769-d2c9-88a76b02f78c"
      },
      "execution_count": 3,
      "outputs": [
        {
          "output_type": "execute_result",
          "data": {
            "text/plain": [
              "[24, 35, 9, 56, 12]"
            ]
          },
          "metadata": {},
          "execution_count": 3
        }
      ]
    },
    {
      "cell_type": "code",
      "source": [
        "Numbers1 = [1, 2, 3]\n",
        "Numbers1[-1] , Numbers1[0] = Numbers1[0] , Numbers1[-1]\n",
        "Numbers1[:]"
      ],
      "metadata": {
        "colab": {
          "base_uri": "https://localhost:8080/"
        },
        "id": "TeIhFFvoneTE",
        "outputId": "537f73a7-bb03-49cb-fcde-d3ed93c13241"
      },
      "execution_count": 5,
      "outputs": [
        {
          "output_type": "execute_result",
          "data": {
            "text/plain": [
              "[3, 2, 1]"
            ]
          },
          "metadata": {},
          "execution_count": 5
        }
      ]
    },
    {
      "cell_type": "markdown",
      "source": [
        "Python provides us with various ways of reversing a list. We Will go through few of the many techniques on how a list in python can be reversed.\n",
        "Examples:\n",
        "\n",
        "Input : list = [10, 11, 12, 13, 14, 15]\n",
        "Output : [15, 14, 13, 12, 11, 10]\n",
        "\n",
        "Input : list = [4, 5, 6, 7, 8, 9]\n",
        "Output : [9, 8, 7, 6, 5, 4,]"
      ],
      "metadata": {
        "id": "j9uqwDHhqqnw"
      }
    },
    {
      "cell_type": "code",
      "source": [
        "Input1 = [10, 11, 12, 13, 14, 15]\n",
        "Input1.sort(reverse=True)\n",
        "Input1[:]"
      ],
      "metadata": {
        "colab": {
          "base_uri": "https://localhost:8080/"
        },
        "id": "Od1DvFDVqfu_",
        "outputId": "35586291-138e-46c9-a6ff-40e5533d842d"
      },
      "execution_count": 8,
      "outputs": [
        {
          "output_type": "execute_result",
          "data": {
            "text/plain": [
              "[15, 14, 13, 12, 11, 10]"
            ]
          },
          "metadata": {},
          "execution_count": 8
        }
      ]
    },
    {
      "cell_type": "code",
      "source": [
        "Input2 = [4, 5, 6, 7, 8, 9]\n",
        "Input2.sort(reverse=True)\n",
        "Input2[:]"
      ],
      "metadata": {
        "colab": {
          "base_uri": "https://localhost:8080/"
        },
        "id": "uQETvgQosi8O",
        "outputId": "19d5e273-59c5-43d2-c783-a657c25e49d7"
      },
      "execution_count": 9,
      "outputs": [
        {
          "output_type": "execute_result",
          "data": {
            "text/plain": [
              "[9, 8, 7, 6, 5, 4]"
            ]
          },
          "metadata": {},
          "execution_count": 9
        }
      ]
    },
    {
      "cell_type": "code",
      "source": [
        ""
      ],
      "metadata": {
        "id": "AlYntIuls7sf"
      },
      "execution_count": null,
      "outputs": []
    }
  ]
}